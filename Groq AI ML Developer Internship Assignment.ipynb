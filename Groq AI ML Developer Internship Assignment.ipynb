{
  "nbformat": 4,
  "nbformat_minor": 0,
  "metadata": {
    "colab": {
      "provenance": []
    },
    "kernelspec": {
      "name": "python3",
      "display_name": "Python 3"
    },
    "language_info": {
      "name": "python"
    }
  },
  "cells": [
    {
      "cell_type": "code",
      "source": [
        "groq_api_key = \"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\""
      ],
      "metadata": {
        "id": "6S8R3LeGRCfX"
      },
      "execution_count": 3,
      "outputs": []
    },
    {
      "cell_type": "code",
      "source": [
        "import openai\n",
        "\n",
        "client = openai.OpenAI(\n",
        "    api_key=groq_api_key,\n",
        "    base_url=\"https://api.groq.com/openai/v1\"\n",
        ")"
      ],
      "metadata": {
        "id": "B10flLd7REyO"
      },
      "execution_count": 4,
      "outputs": []
    },
    {
      "cell_type": "code",
      "source": [
        "response = client.chat.completions.create(\n",
        "    model=\"groq/compound\",\n",
        "    messages=[\n",
        "        {\"role\": \"system\", \"content\": \"You are a helpful assistant.\"},\n",
        "        {\"role\": \"user\", \"content\": \"Hello, just testing the Groq API connection!\"}\n",
        "    ]\n",
        ")\n",
        "print(response.choices[0].message.content)\n"
      ],
      "metadata": {
        "colab": {
          "base_uri": "https://localhost:8080/"
        },
        "id": "9oVly2yTRHv2",
        "outputId": "52d0d56e-0f61-4ac8-d89d-71442cc1f371"
      },
      "execution_count": 9,
      "outputs": [
        {
          "output_type": "stream",
          "name": "stdout",
          "text": [
            "Hello! I'm here and ready to help. The Groq API connection is looking good! What's on your mind? Want to test with a question or task?\n"
          ]
        }
      ]
    },
    {
      "cell_type": "code",
      "source": [
        "# Initialize empty conversation history list\n",
        "conversation_history = []\n",
        "\n",
        "# Function to add a message (user or assistant)\n",
        "def add_message(role, content):\n",
        "    conversation_history.append({\"role\": role, \"content\": content})\n",
        "\n",
        "# Add sample user and assistant messages\n",
        "add_message(\"user\", \"Hello!\")\n",
        "add_message(\"assistant\", \"Hi! How can I help you today?\")\n",
        "\n",
        "# Print the current conversation\n",
        "print(conversation_history)"
      ],
      "metadata": {
        "colab": {
          "base_uri": "https://localhost:8080/"
        },
        "id": "krGwP3jFTdcd",
        "outputId": "e210a6e2-74bb-449e-c4b0-a440ec35cead"
      },
      "execution_count": 10,
      "outputs": [
        {
          "output_type": "stream",
          "name": "stdout",
          "text": [
            "[{'role': 'user', 'content': 'Hello!'}, {'role': 'assistant', 'content': 'Hi! How can I help you today?'}]\n"
          ]
        }
      ]
    },
    {
      "cell_type": "code",
      "source": [
        "def truncate_by_turns(n):\n",
        "    return conversation_history[-n:]\n",
        "\n",
        "# Example: keep only last 1 turn\n",
        "print(truncate_by_turns(1))"
      ],
      "metadata": {
        "colab": {
          "base_uri": "https://localhost:8080/"
        },
        "id": "KBatZwu9Teb1",
        "outputId": "e7a9c955-2ddf-49a8-eb3f-a4cbe067673a"
      },
      "execution_count": 11,
      "outputs": [
        {
          "output_type": "stream",
          "name": "stdout",
          "text": [
            "[{'role': 'assistant', 'content': 'Hi! How can I help you today?'}]\n"
          ]
        }
      ]
    },
    {
      "cell_type": "code",
      "source": [
        "def truncate_by_chars(max_chars):\n",
        "    truncated = []\n",
        "    total_chars = 0\n",
        "    # Iterate backwards until max_chars reached\n",
        "    for msg in reversed(conversation_history):\n",
        "        msg_len = len(msg[\"content\"])\n",
        "        if total_chars + msg_len > max_chars:\n",
        "            break\n",
        "        truncated.insert(0, msg)  # Insert at front\n",
        "        total_chars += msg_len\n",
        "    return truncated\n",
        "\n",
        "# Example: keep messages totaling max 10 chars\n",
        "print(truncate_by_chars(10))"
      ],
      "metadata": {
        "colab": {
          "base_uri": "https://localhost:8080/"
        },
        "id": "Bqb7HuDNThPF",
        "outputId": "3098f9c6-a993-447d-99bd-9091118ced12"
      },
      "execution_count": 12,
      "outputs": [
        {
          "output_type": "stream",
          "name": "stdout",
          "text": [
            "[]\n"
          ]
        }
      ]
    },
    {
      "cell_type": "code",
      "source": [
        "def summarize_conversation(conversation):\n",
        "    # Prepare the prompt with conversation content\n",
        "    text_to_summarize = \"\\n\".join([f\"{msg['role']}: {msg['content']}\" for msg in conversation])\n",
        "    prompt = f\"Summarize the following conversation briefly:\\n\\n{text_to_summarize}\"\n",
        "\n",
        "    # Call Groq API for completion\n",
        "    response = client.chat.completions.create(\n",
        "        model=\"groq/compound\",\n",
        "        messages=[\n",
        "            {\"role\": \"system\", \"content\": \"You are a helpful assistant.\"},\n",
        "            {\"role\": \"user\", \"content\": prompt}\n",
        "        ]\n",
        "    )\n",
        "    summary = response.choices[0].message.content\n",
        "    return summary\n",
        "\n",
        "# Example usage:\n",
        "summary_text = summarize_conversation(conversation_history)\n",
        "print(\"Summary:\\n\", summary_text)\n"
      ],
      "metadata": {
        "colab": {
          "base_uri": "https://localhost:8080/"
        },
        "id": "e3Mn0cf2Tkn1",
        "outputId": "0e30a48e-7cff-4510-f18d-455777851048"
      },
      "execution_count": 15,
      "outputs": [
        {
          "output_type": "stream",
          "name": "stdout",
          "text": [
            "Summary:\n",
            " The conversation was a brief greeting, with the user saying \"Hello!\" and the assistant responding with \"Hi! How can I help you today?\" There was no further discussion.\n"
          ]
        }
      ]
    },
    {
      "cell_type": "code",
      "source": [
        "# Initialize conversation history and a counter\n",
        "conversation_history = []\n",
        "message_count = 0\n",
        "k = 3  # summarization frequency\n",
        "\n",
        "def add_message(role, content):\n",
        "    global message_count, conversation_history\n",
        "    conversation_history.append({\"role\": role, \"content\": content})\n",
        "    message_count += 1\n",
        "\n",
        "    # After every k messages, summarize and replace history\n",
        "    if message_count % k == 0:\n",
        "        summary = summarize_conversation(conversation_history)\n",
        "        conversation_history = [{\"role\": \"system\", \"content\": \"Summary of previous conversation:\"},\n",
        "                                {\"role\": \"assistant\", \"content\": summary}]\n",
        "        print(\"Conversation summarized and updated.\")\n",
        "\n",
        "def print_history():\n",
        "    for msg in conversation_history:\n",
        "        print(f\"{msg['role'].capitalize()}: {msg['content']}\")\n",
        "\n",
        "# Test by adding messages\n",
        "add_message(\"user\", \"Hello!\")\n",
        "add_message(\"assistant\", \"Hi! How can I help you today?\")\n",
        "add_message(\"user\", \"Can you help me with the assignment?\")\n",
        "print_history()\n"
      ],
      "metadata": {
        "colab": {
          "base_uri": "https://localhost:8080/"
        },
        "id": "UKd1XHcQVFzM",
        "outputId": "8ebf02e7-7f0d-4685-9bc7-595631b63109"
      },
      "execution_count": 16,
      "outputs": [
        {
          "output_type": "stream",
          "name": "stdout",
          "text": [
            "Conversation summarized and updated.\n",
            "System: Summary of previous conversation:\n",
            "Assistant: I'm here to assist you with your assignment. What's the assignment about and what specifically do you need help with?\n"
          ]
        }
      ]
    },
    {
      "cell_type": "code",
      "source": [
        "# Truncate by last n turns\n",
        "def truncate_by_turns(history, n):\n",
        "    return history[-n:]\n",
        "\n",
        "# Truncate by max characters (approximate, counting message content length)\n",
        "def truncate_by_chars(history, max_chars):\n",
        "    truncated = []\n",
        "    total_chars = 0\n",
        "    for msg in reversed(history):\n",
        "        msg_len = len(msg[\"content\"])\n",
        "        if total_chars + msg_len > max_chars:\n",
        "            break\n",
        "        truncated.insert(0, msg)\n",
        "        total_chars += msg_len\n",
        "    return truncated\n",
        "\n",
        "# Updated add_message to accept truncation parameters\n",
        "def add_message_with_truncation(role, content, max_turns=None, max_chars=None):\n",
        "    global message_count, conversation_history\n",
        "    conversation_history.append({\"role\": role, \"content\": content})\n",
        "    message_count += 1\n",
        "\n",
        "    # Apply truncation before summarizing\n",
        "    truncated_history = conversation_history\n",
        "    if max_turns:\n",
        "        truncated_history = truncate_by_turns(truncated_history, max_turns)\n",
        "    if max_chars:\n",
        "        truncated_history = truncate_by_chars(truncated_history, max_chars)\n",
        "\n",
        "    # After every k messages, summarize and replace history with summary + truncated\n",
        "    if message_count % k == 0:\n",
        "        summary = summarize_conversation(truncated_history)\n",
        "        conversation_history = [{\"role\": \"system\", \"content\": \"Summary of previous conversation:\"},\n",
        "                                {\"role\": \"assistant\", \"content\": summary}]\n",
        "        print(\"Conversation summarized and updated.\")\n",
        "    else:\n",
        "        conversation_history = truncated_history\n",
        "\n",
        "def print_history():\n",
        "    for msg in conversation_history:\n",
        "        print(f\"{msg['role'].capitalize()}: {msg['content']}\")\n",
        "\n",
        "# Test example:\n",
        "add_message_with_truncation(\"user\", \"Hello!\", max_turns=3, max_chars=100)\n",
        "add_message_with_truncation(\"assistant\", \"Hi! How can I help you today?\", max_turns=3, max_chars=100)\n",
        "add_message_with_truncation(\"user\", \"Can you help me with the assignment?\", max_turns=3, max_chars=100)\n",
        "\n",
        "print_history()"
      ],
      "metadata": {
        "colab": {
          "base_uri": "https://localhost:8080/"
        },
        "id": "cmrEVbVvVodE",
        "outputId": "03299888-6b97-4460-8980-41368a2ca979"
      },
      "execution_count": 17,
      "outputs": [
        {
          "output_type": "stream",
          "name": "stdout",
          "text": [
            "Conversation summarized and updated.\n",
            "System: Summary of previous conversation:\n",
            "Assistant: I'm here to help. What specifically do you need help with regarding your assignment?\n"
          ]
        }
      ]
    },
    {
      "cell_type": "code",
      "source": [
        "# Clear conversation history and reset counter for fresh tests\n",
        "conversation_history = []\n",
        "message_count = 0\n",
        "\n",
        "# Define test messages\n",
        "test_messages = [\n",
        "    (\"user\", \"Hello!\"),\n",
        "    (\"assistant\", \"Hi! How can I assist you today?\"),\n",
        "    (\"user\", \"I need help with my AI assignment.\"),\n",
        "    (\"assistant\", \"Sure! What part do you want to start with?\"),\n",
        "    (\"user\", \"Let’s begin with conversation management.\"),\n",
        "    (\"assistant\", \"Great! I can help you with that.\"),\n",
        "]\n",
        "\n",
        "# Test 1: Truncate by last 2 turns\n",
        "print(\"Test 1: Truncate by last 2 turns\")\n",
        "for role, content in test_messages:\n",
        "    add_message_with_truncation(role, content, max_turns=2)\n",
        "print_history()\n",
        "print(\"\\n\")\n",
        "\n",
        "# Clear for next test\n",
        "conversation_history = []\n",
        "message_count = 0\n",
        "\n",
        "# Test 2: Truncate by max 50 characters\n",
        "print(\"Test 2: Truncate by max 50 characters\")\n",
        "for role, content in test_messages:\n",
        "    add_message_with_truncation(role, content, max_chars=50)\n",
        "print_history()\n",
        "print(\"\\n\")\n",
        "\n",
        "# Clear for next test\n",
        "conversation_history = []\n",
        "message_count = 0\n",
        "\n",
        "# Test 3: Truncate by last 3 turns and max 100 characters\n",
        "print(\"Test 3: Truncate by last 3 turns and max 100 characters\")\n",
        "for role, content in test_messages:\n",
        "    add_message_with_truncation(role, content, max_turns=3, max_chars=100)\n",
        "print_history()\n"
      ],
      "metadata": {
        "colab": {
          "base_uri": "https://localhost:8080/"
        },
        "id": "JfCyu5CJWFVT",
        "outputId": "a952d2f3-0440-41a3-d873-56bd19e32b6c"
      },
      "execution_count": 18,
      "outputs": [
        {
          "output_type": "stream",
          "name": "stdout",
          "text": [
            "Test 1: Truncate by last 2 turns\n",
            "Conversation summarized and updated.\n",
            "Conversation summarized and updated.\n",
            "System: Summary of previous conversation:\n",
            "Assistant: The conversation between the user and the assistant is about starting a discussion on conversation management. The user initiated the conversation, and the assistant responded positively, offering help. That's the summary of the conversation.\n",
            "\n",
            "\n",
            "Test 2: Truncate by max 50 characters\n",
            "Conversation summarized and updated.\n",
            "Conversation summarized and updated.\n",
            "System: Summary of previous conversation:\n",
            "Assistant: There is no conversation to summarize. This conversation just started. What would you like to talk about? I can summarize our conversation at the end if you'd like.\n",
            "\n",
            "\n",
            "Test 3: Truncate by last 3 turns and max 100 characters\n",
            "Conversation summarized and updated.\n",
            "Conversation summarized and updated.\n",
            "System: Summary of previous conversation:\n",
            "Assistant: The conversation between the user and the assistant is about conversation management. The user initiated the conversation with \"Let's begin with conversation management.\" The assistant responded with \"Great! I can help you with that.\" This is the entirety of the conversation so far.\n"
          ]
        }
      ]
    },
    {
      "cell_type": "markdown",
      "source": [
        "# Task 1: Conversation Management & Summarization\n",
        "\n",
        "*(All code and outputs related to conversation history, truncation, and summarization above)*\n",
        "\n",
        "---\n",
        "\n",
        "# Task 2: JSON Schema Classification & Extraction\n",
        "\n",
        "*(Starting below will be the code and explanations for structured info extraction from chats)*\n"
      ],
      "metadata": {
        "id": "5T-SHI_OYtzS"
      }
    },
    {
      "cell_type": "code",
      "source": [
        "# Define JSON schema for extraction\n",
        "json_schema = {\n",
        "    \"type\": \"object\",\n",
        "    \"properties\": {\n",
        "        \"name\": {\"type\": \"string\", \"description\": \"Full name of the user\"},\n",
        "        \"email\": {\"type\": \"string\", \"description\": \"User's email address\"},\n",
        "        \"phone\": {\"type\": \"string\", \"description\": \"User's phone number\"},\n",
        "        \"location\": {\"type\": \"string\", \"description\": \"User's location or city\"},\n",
        "        \"age\": {\"type\": \"integer\", \"description\": \"User's age in years\"}\n",
        "    },\n",
        "    \"required\": [\"name\", \"email\", \"phone\", \"location\", \"age\"]\n",
        "}\n",
        "\n",
        "# Sample chat conversations to parse\n",
        "sample_chats = [\n",
        "    \"Hi, my name is Alice Johnson. You can reach me at alice.j@example.com or call me on 123-456-7890. I live in Bangalore and I am 24 years old.\",\n",
        "    \"Hello, this is Bob Smith. My email is bobsmith@mail.com and phone number is (555) 987 6543. I currently reside in Mumbai. Age is 30.\",\n",
        "    \"Hey! I'm Carol, living in Delhi. Email carol_xyz@gmail.com, phone 9876543210. I'm 28 years old.\"\n",
        "]\n"
      ],
      "metadata": {
        "id": "qjdST-ELZMhx"
      },
      "execution_count": 19,
      "outputs": []
    },
    {
      "cell_type": "code",
      "source": [
        "import re\n",
        "import json\n",
        "\n",
        "\n",
        "def clean_json_text(raw_text):\n",
        "    # Remove triple backticks and optional 'json' tag safely by splitting string\n",
        "    text = re.sub(r\"```\" + r\"(?:json)?\", \"\", raw_text, flags=re.DOTALL).strip()\n",
        "    # Remove any remaining triple backticks\n",
        "    text = text.replace(\"```\", \"\")\n",
        "    # Remove markdown mailto links embedded inside quoted JSON strings:\n",
        "    text = re.sub(r'\"$$([^$$]+)$$$$mailto:[^)]+$$\"', r'\"\\1\"', text)\n",
        "    return text\n",
        "\n",
        "\n",
        "def extract_info_from_chat_clean(chat_text):\n",
        "    prompt = (\n",
        "        f\"Extract the following details from the chat as valid JSON matching this schema:\\n\"\n",
        "        f\"{json.dumps(json_schema, indent=2)}\\n\\n\"\n",
        "        f\"Chat:\\n{chat_text}\\n\\n\"\n",
        "        f\"Return ONLY the JSON object.\"\n",
        "    )\n",
        "\n",
        "    response = client.chat.completions.create(\n",
        "        model=\"groq/compound\",\n",
        "        messages=[\n",
        "            {\"role\": \"system\", \"content\": \"You are a helpful assistant that extracts user info as JSON.\"},\n",
        "            {\"role\": \"user\", \"content\": prompt}\n",
        "        ]\n",
        "    )\n",
        "    raw_output = response.choices[0].message.content\n",
        "    cleaned_output = clean_json_text(raw_output)\n",
        "    try:\n",
        "        data = json.loads(cleaned_output)\n",
        "        data = fix_emails(data)\n",
        "        return data\n",
        "    except Exception as e:\n",
        "        print(\"Error parsing JSON after cleaning:\", e)\n",
        "        print(\"Cleaned output was:\\n\", cleaned_output)\n",
        "        return None\n",
        "\n",
        "# Test extraction on all sample chats\n",
        "for i, chat in enumerate(sample_chats, 1):\n",
        "    print(f\"Chat {i}:\")\n",
        "    extracted_data = extract_info_from_chat_clean(chat)\n",
        "    print(extracted_data)\n",
        "    print(\"\\n\")"
      ],
      "metadata": {
        "colab": {
          "base_uri": "https://localhost:8080/"
        },
        "id": "EndiNYuTZWSx",
        "outputId": "9eaccef4-6bdf-40ee-c6ff-06dfa6afdda6"
      },
      "execution_count": 35,
      "outputs": [
        {
          "output_type": "stream",
          "name": "stdout",
          "text": [
            "Chat 1:\n",
            "{'name': 'Alice Johnson', 'email': 'alice.j@example.com', 'phone': '123-456-7890', 'location': 'Bangalore', 'age': 24}\n",
            "\n",
            "\n",
            "Chat 2:\n",
            "{'name': 'Bob Smith', 'email': 'bobsmith@mail.com', 'phone': '(555) 987 6543', 'location': 'Mumbai', 'age': 30}\n",
            "\n",
            "\n",
            "Chat 3:\n",
            "{'name': 'Carol', 'email': 'carol_xyz@gmail.com', 'phone': '9876543210', 'location': 'Delhi', 'age': 28}\n",
            "\n",
            "\n"
          ]
        }
      ]
    },
    {
      "cell_type": "code",
      "source": [
        "import re\n",
        "import json\n",
        "\n",
        "def clean_json_text(raw_text):\n",
        "    # Remove triple backticks and optional 'json' tag safely by splitting string\n",
        "    text = re.sub(r\"```\" + r\"(?:json)?\", \"\", raw_text, flags=re.DOTALL).strip()\n",
        "    # Remove any remaining triple backticks\n",
        "    text = text.replace(\"```\", \"\")\n",
        "    # Remove markdown mailto links embedded inside quoted JSON strings:\n",
        "    text = re.sub(r'\"$$([^$$]+)$$$$mailto:[^)]+$$\"', r'\"\\1\"', text)\n",
        "    return text\n",
        "\n",
        "def normalize_nulls(data_dict):\n",
        "    for key, value in data_dict.items():\n",
        "        if value in ('null', None, 'unknown', 0, ''):\n",
        "            data_dict[key] = None\n",
        "    return data_dict\n",
        "\n",
        "def extract_info_from_chat_clean(chat_text):\n",
        "    prompt = (\n",
        "        f\"Extract the following details from the chat as valid JSON matching this schema:\\n\"\n",
        "        f\"{json.dumps(json_schema, indent=2)}\\n\\n\"\n",
        "        f\"Chat:\\n{chat_text}\\n\\n\"\n",
        "        f\"Return ONLY the JSON object.\"\n",
        "    )\n",
        "\n",
        "    response = client.chat.completions.create(\n",
        "        model=\"groq/compound\",\n",
        "        messages=[\n",
        "            {\"role\": \"system\", \"content\": \"You are a helpful assistant that extracts user info as JSON.\"},\n",
        "            {\"role\": \"user\", \"content\": prompt}\n",
        "        ]\n",
        "    )\n",
        "    raw_output = response.choices[0].message.content\n",
        "    cleaned_output = clean_json_text(raw_output)\n",
        "\n",
        "    # Gracefully handle empty or invalid JSON\n",
        "    if not cleaned_output.strip() or cleaned_output.strip() == '{}':\n",
        "        return None\n",
        "\n",
        "    try:\n",
        "        data = json.loads(cleaned_output)\n",
        "        return data\n",
        "    except Exception as e:\n",
        "        print(\"Error parsing JSON after cleaning:\", e)\n",
        "        print(\"Cleaned output was:\\n\", cleaned_output)\n",
        "        return None\n",
        "\n",
        "# Extended chats for testing\n",
        "extended_chats = sample_chats + [\n",
        "    \"Hey, I'm Mike. Email mike123@mail.com. Location is Hyderabad.\",\n",
        "    \"My name's Sara. Phone: 555-123-4567. Age 22. Email sara@example.com.\",\n",
        "    \"Hello, no contact info here, just saying hi!\",\n",
        "    \"This is David. Email: david@example.com, lives in Pune. Age unknown.\"\n",
        "]\n",
        "\n",
        "# Run extraction, normalization, and print results\n",
        "print(\"Running extended chat extraction tests with full cleaning and normalization:\\n\")\n",
        "\n",
        "for i, chat in enumerate(extended_chats, 1):\n",
        "    print(f\"Extended Chat {i}:\")\n",
        "    raw_data = extract_info_from_chat_clean(chat)\n",
        "    if raw_data:\n",
        "        normalized_data = normalize_nulls(raw_data)\n",
        "        print(normalized_data)\n",
        "    else:\n",
        "        print(\"Failed to extract data or no info found.\")\n",
        "    print(\"\\n\")\n"
      ],
      "metadata": {
        "colab": {
          "base_uri": "https://localhost:8080/"
        },
        "id": "HrkwYdvdgg9e",
        "outputId": "9cace7d3-51bd-4e14-f706-d5d72eb7c91d"
      },
      "execution_count": 49,
      "outputs": [
        {
          "output_type": "stream",
          "name": "stdout",
          "text": [
            "Running extended chat extraction tests with full cleaning and normalization:\n",
            "\n",
            "Extended Chat 1:\n",
            "{'name': 'Alice Johnson', 'email': 'alice.j@example.com', 'phone': '123-456-7890', 'location': 'Bangalore', 'age': 24}\n",
            "\n",
            "\n",
            "Extended Chat 2:\n",
            "{'name': 'Bob Smith', 'email': 'bobsmith@mail.com', 'phone': '(555) 987 6543', 'location': 'Mumbai', 'age': 30}\n",
            "\n",
            "\n",
            "Extended Chat 3:\n",
            "{'name': 'Carol', 'email': 'carol_xyz@gmail.com', 'phone': '9876543210', 'location': 'Delhi', 'age': 28}\n",
            "\n",
            "\n",
            "Extended Chat 4:\n",
            "{'name': 'Mike', 'email': 'mike123@mail.com', 'phone': None, 'location': 'Hyderabad', 'age': None}\n",
            "\n",
            "\n",
            "Extended Chat 5:\n",
            "{'name': 'Sara', 'email': 'sara@example.com', 'phone': '555-123-4567', 'location': None, 'age': 22}\n",
            "\n",
            "\n",
            "Extended Chat 6:\n",
            "{'name': None, 'email': None, 'phone': None, 'location': None, 'age': None}\n",
            "\n",
            "\n",
            "Extended Chat 7:\n",
            "{'name': 'David', 'email': 'david@example.com', 'phone': None, 'location': 'Pune', 'age': None}\n",
            "\n",
            "\n"
          ]
        }
      ]
    }
  ]
}